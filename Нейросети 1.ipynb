{
  "nbformat": 4,
  "nbformat_minor": 0,
  "metadata": {
    "colab": {
      "provenance": [],
      "authorship_tag": "ABX9TyMRqUPoIkc+2KmSvVzki7yA"
    },
    "kernelspec": {
      "name": "python3",
      "display_name": "Python 3"
    },
    "language_info": {
      "name": "python"
    }
  },
  "cells": [
    {
      "cell_type": "code",
      "execution_count": null,
      "metadata": {
        "id": "xfE4LoykAU5S"
      },
      "outputs": [],
      "source": []
    },
    {
      "cell_type": "code",
      "execution_count": null,
      "metadata": {
        "colab": {
          "base_uri": "https://localhost:8080/"
        },
        "id": "r6Mo1CqNPzNT",
        "outputId": "48fae62d-f8bc-4544-d906-9552e6beb95c"
      },
      "outputs": [
        {
          "output_type": "stream",
          "name": "stdout",
          "text": [
            "Epoch 1/5\n",
            "9801/9801 [==============================] - 21s 2ms/step - loss: 1.1679 - mape: 1.1679\n",
            "Epoch 2/5\n",
            "9801/9801 [==============================] - 17s 2ms/step - loss: 0.4061 - mape: 0.4061\n",
            "Epoch 3/5\n",
            "9801/9801 [==============================] - 16s 2ms/step - loss: 0.3271 - mape: 0.3271\n",
            "Epoch 4/5\n",
            "9801/9801 [==============================] - 16s 2ms/step - loss: 0.2786 - mape: 0.2786\n",
            "Epoch 5/5\n",
            "9801/9801 [==============================] - 16s 2ms/step - loss: 0.2689 - mape: 0.2689\n",
            "20/20 [==============================] - 0s 2ms/step - loss: 0.5690 - mape: 0.5690\n",
            "Test mean absolute percentage error: [0.5689641833305359, 0.5689641833305359]\n",
            "Enter a: 6\n",
            "Enter b: 5\n",
            "1/1 [==============================] - 0s 152ms/step\n",
            "Model prediction: 6.0+5.0=13.594439506530762; true value: 13.5, mape: 0.0069955190022786455\n",
            "Enter a: 2\n",
            "Enter b: 1\n",
            "1/1 [==============================] - 0s 25ms/step\n",
            "Model prediction: 2.0+1.0=5.54940938949585; true value: 5.5, mape: 0.008983525362881746\n",
            "Enter a: 34\n",
            "Enter b: 60\n",
            "1/1 [==============================] - 0s 21ms/step\n",
            "Model prediction: 34.0+60.0=97.04822540283203; true value: 96.5, mape: 0.005681092257326749\n"
          ]
        }
      ],
      "source": [
        "# Импортируем зависимости\n",
        "import numpy\n",
        "import tensorflow as tf\n",
        "from tensorflow import keras\n",
        "import numpy as np\n",
        "from sklearn.metrics import mean_absolute_percentage_error\n",
        "\n",
        "\n",
        "# Функция генерации наборов входных и выходных данных в заданном диапазоне\n",
        "def generate(start, stop, step):\n",
        "    a_ = numpy.arange(start, stop, step)\n",
        "    b_ = numpy.arange(start, stop, step)\n",
        "    data = numpy.asarray([[a0, b0] for a0 in a_ for b0 in b_])\n",
        "    target = numpy.asarray([(a0+0.5) + (b0+2) for a0 in a_ for b0 in b_])\n",
        "    return data, target\n",
        "\n",
        "\n",
        "# Генерируем тренировочные и тестовые наборы данных\n",
        "train_data, train_targets = generate(1, 100, 1)\n",
        "test_data, test_targets = generate(101, 200, 4)\n",
        "\n",
        "# Описываем модель НС с двумя входными нейронами (произвольные действительные числа)\n",
        "# и одним выходным (сумма действительных чисел)\n",
        "model = keras.Sequential([\n",
        "    keras.layers.Flatten(input_shape=(2,)),\n",
        "    keras.layers.Dense(20, activation=tf.nn.relu),\n",
        "    keras.layers.Dense(20, activation=tf.nn.relu),\n",
        "    keras.layers.Dense(1)\n",
        "])\n",
        "\n",
        "# Создаем модель НС с использованием оптимизации по Adam и метрикой mean absolute percentage error(MAPE)\n",
        "model.compile(optimizer='adam',\n",
        "              loss='mape',\n",
        "              metrics=['mape'])\n",
        "\n",
        "# Производим обучение НС (кол-во epochs=5)\n",
        "model.fit(train_data, train_targets, epochs=5, batch_size=1)\n",
        "\n",
        "# Тестируем обученную НС\n",
        "test_mape = model.evaluate(test_data, test_targets)\n",
        "print('Test mean absolute percentage error:', test_mape)\n",
        "\n",
        "# Интерактивный режим: считываем из стандартного ввода 2 числа, и предсказываем сумму с помощью НС\n",
        "\n",
        "while True:\n",
        "    a, b = float(input(\"Enter a: \")), float(input(\"Enter b: \"))\n",
        "    sum_predict = model.predict(np.array([[a, b]]))[0, 0]\n",
        "    sum_true = (a+0.5) + (b+2)\n",
        "    print(f\"Model prediction: {a}+{b}={sum_predict}; \"\n",
        "          f\"true value: {sum_true}, \"\n",
        "          f\"mape: {mean_absolute_percentage_error([sum_true], [sum_predict])}\")"
      ]
    }
  ]
}