{
  "nbformat": 4,
  "nbformat_minor": 0,
  "metadata": {
    "colab": {
      "provenance": [],
      "toc_visible": true,
      "authorship_tag": "ABX9TyNodFAPMm/peJGEVTe8pCMc"
    },
    "kernelspec": {
      "name": "python3",
      "display_name": "Python 3"
    },
    "language_info": {
      "name": "python"
    }
  },
  "cells": [
    {
      "cell_type": "code",
      "source": [
        "import os\n",
        "os.environ['TF_CPP_MIN_LOG_LEVEL'] = '2'\n",
        "\n",
        "import numpy as np\n",
        "import matplotlib.pyplot as plt\n",
        "from tensorflow.keras.datasets import mnist         # библиотека базы выборок Mnist\n",
        "from tensorflow import keras\n",
        "from tensorflow.keras.layers import Dense, Flatten\n",
        "\n",
        "(x_train, y_train), (x_test, y_test) = mnist.load_data()\n",
        "\n",
        "# стандартизация входных данных\n",
        "x_train = x_train / 255\n",
        "x_test = x_test / 255\n",
        "\n",
        "y_train_cat = keras.utils.to_categorical(y_train, 10)\n",
        "y_test_cat = keras.utils.to_categorical(y_test, 10)\n",
        "\n",
        "model = keras.Sequential([\n",
        "    Flatten(input_shape=(28, 28, 1)),\n",
        "    Dense(128, activation='relu'),\n",
        "    Dense(10, activation='softmax')\n",
        "])\n",
        "\n",
        "print(model.summary())     \n",
        "# вывод структуры НС в консоль\n",
        "\n",
        "# оптимизатор Adam, шаг сходимости = 0,001\n",
        "myAdam = keras.optimizers.Adam(learning_rate=0.001)\n",
        "\n",
        "model.compile(optimizer=myAdam,\n",
        "             loss='categorical_crossentropy',\n",
        "             metrics=['accuracy'])\n",
        "\n",
        "model.fit(x_train, y_train_cat, batch_size=32, epochs=5, validation_split=0.2)\n",
        "\n",
        "model.evaluate(x_test, y_test_cat)\n",
        "\n",
        "n = 1\n",
        "x = np.expand_dims(x_test[n], axis=0)\n",
        "res = model.predict(x)\n",
        "print( res )\n",
        "print( np.argmax(res) )\n",
        "\n",
        "# Распознавание всей тестовой выборки\n",
        "pred = model.predict(x_test)\n",
        "pred = np.argmax(pred, axis=1)\n",
        "\n",
        "print(pred.shape)\n",
        "\n",
        "print(pred[:30])\n",
        "print(y_test[:30])\n"
      ],
      "metadata": {
        "colab": {
          "base_uri": "https://localhost:8080/"
        },
        "id": "R23sYXNCp_zi",
        "outputId": "45aa2df0-9741-4b5c-920a-cccb0928d12d"
      },
      "execution_count": 1,
      "outputs": [
        {
          "output_type": "stream",
          "name": "stdout",
          "text": [
            "Model: \"sequential\"\n",
            "_________________________________________________________________\n",
            " Layer (type)                Output Shape              Param #   \n",
            "=================================================================\n",
            " flatten (Flatten)           (None, 784)               0         \n",
            "                                                                 \n",
            " dense (Dense)               (None, 128)               100480    \n",
            "                                                                 \n",
            " dense_1 (Dense)             (None, 10)                1290      \n",
            "                                                                 \n",
            "=================================================================\n",
            "Total params: 101,770\n",
            "Trainable params: 101,770\n",
            "Non-trainable params: 0\n",
            "_________________________________________________________________\n",
            "None\n",
            "Epoch 1/5\n",
            "1500/1500 [==============================] - 13s 7ms/step - loss: 0.2873 - accuracy: 0.9189 - val_loss: 0.1551 - val_accuracy: 0.9549\n",
            "Epoch 2/5\n",
            "1500/1500 [==============================] - 8s 6ms/step - loss: 0.1246 - accuracy: 0.9639 - val_loss: 0.1137 - val_accuracy: 0.9678\n",
            "Epoch 3/5\n",
            "1500/1500 [==============================] - 8s 5ms/step - loss: 0.0852 - accuracy: 0.9742 - val_loss: 0.1056 - val_accuracy: 0.9692\n",
            "Epoch 4/5\n",
            "1500/1500 [==============================] - 7s 5ms/step - loss: 0.0631 - accuracy: 0.9807 - val_loss: 0.0943 - val_accuracy: 0.9735\n",
            "Epoch 5/5\n",
            "1500/1500 [==============================] - 8s 6ms/step - loss: 0.0482 - accuracy: 0.9855 - val_loss: 0.0851 - val_accuracy: 0.9749\n",
            "313/313 [==============================] - 1s 2ms/step - loss: 0.0794 - accuracy: 0.9765\n",
            "1/1 [==============================] - 0s 103ms/step\n",
            "[[2.8186756e-10 2.3833838e-05 9.9997532e-01 7.2534846e-07 6.8264520e-15\n",
            "  1.4007074e-07 3.1152236e-08 1.8298638e-13 5.3456478e-08 6.7974628e-12]]\n",
            "2\n",
            "313/313 [==============================] - 1s 2ms/step\n",
            "(10000,)\n",
            "[7 2 1 0 4 1 4 9 6 9 0 6 9 0 1 5 9 7 3 4 9 6 6 5 4 0 7 4 0 1]\n",
            "[7 2 1 0 4 1 4 9 5 9 0 6 9 0 1 5 9 7 3 4 9 6 6 5 4 0 7 4 0 1]\n"
          ]
        }
      ]
    },
    {
      "cell_type": "code",
      "source": [
        "# оптимизатор RMSProp, шаг сходимости = 0,00001\n",
        "myRMS = keras.optimizers.RMSprop(learning_rate=0.00001)\n",
        "model.compile(optimizer=myRMS,\n",
        "             loss='categorical_crossentropy',\n",
        "             metrics=['accuracy'])\n",
        "\n",
        "model.fit(x_train, y_train_cat, batch_size=32, epochs=5, validation_split=0.2)\n",
        "\n",
        "model.evaluate(x_test, y_test_cat)\n",
        "\n",
        "n = 1\n",
        "x = np.expand_dims(x_test[n], axis=0)\n",
        "res = model.predict(x)\n",
        "print( res )\n",
        "print( np.argmax(res) )\n",
        "\n",
        "# Распознавание всей тестовой выборки\n",
        "pred = model.predict(x_test)\n",
        "pred = np.argmax(pred, axis=1)\n",
        "\n",
        "print(pred.shape)\n",
        "\n",
        "print(pred[:30])\n",
        "print(y_test[:30])"
      ],
      "metadata": {
        "colab": {
          "base_uri": "https://localhost:8080/"
        },
        "id": "1dwv41K4TLNA",
        "outputId": "9fed93c1-9303-4ed2-e421-518e312a693a"
      },
      "execution_count": 30,
      "outputs": [
        {
          "output_type": "stream",
          "name": "stdout",
          "text": [
            "Epoch 1/5\n",
            "1500/1500 [==============================] - 7s 5ms/step - loss: 0.0062 - accuracy: 0.9987 - val_loss: 0.0811 - val_accuracy: 0.9797\n",
            "Epoch 2/5\n",
            "1500/1500 [==============================] - 7s 4ms/step - loss: 0.0062 - accuracy: 0.9986 - val_loss: 0.0812 - val_accuracy: 0.9797\n",
            "Epoch 3/5\n",
            "1500/1500 [==============================] - 7s 4ms/step - loss: 0.0062 - accuracy: 0.9986 - val_loss: 0.0813 - val_accuracy: 0.9797\n",
            "Epoch 4/5\n",
            "1500/1500 [==============================] - 6s 4ms/step - loss: 0.0062 - accuracy: 0.9987 - val_loss: 0.0813 - val_accuracy: 0.9797\n",
            "Epoch 5/5\n",
            "1500/1500 [==============================] - 7s 5ms/step - loss: 0.0061 - accuracy: 0.9987 - val_loss: 0.0813 - val_accuracy: 0.9797\n",
            "313/313 [==============================] - 1s 2ms/step - loss: 0.0806 - accuracy: 0.9788\n",
            "1/1 [==============================] - 0s 67ms/step\n",
            "[[1.5934338e-14 2.9014927e-08 1.0000000e+00 3.0264855e-09 4.9671984e-22\n",
            "  4.0759889e-11 8.9394887e-13 8.9523641e-22 4.1198999e-11 1.6507182e-20]]\n",
            "2\n",
            "313/313 [==============================] - 1s 2ms/step\n",
            "(10000,)\n",
            "[7 2 1 0 4 1 4 9 6 9 0 6 9 0 1 5 9 7 3 4 9 6 6 5 4 0 7 4 0 1]\n",
            "[7 2 1 0 4 1 4 9 5 9 0 6 9 0 1 5 9 7 3 4 9 6 6 5 4 0 7 4 0 1]\n"
          ]
        }
      ]
    },
    {
      "cell_type": "code",
      "source": [
        "# оптимизатор стохастический градиентный алгоритм с моментами Нестерова, шаг сходимости = 0,001\n",
        "mySGD = keras.optimizers.SGD(learning_rate=0.0001, momentum=0.001, nesterov=True)\n",
        "model.compile(optimizer=myAdam,\n",
        "             loss='categorical_crossentropy',\n",
        "             metrics=['accuracy'])\n",
        "\n",
        "model.fit(x_train, y_train_cat, batch_size=32, epochs=5, validation_split=0.2)\n",
        "\n",
        "model.evaluate(x_test, y_test_cat)\n",
        "\n",
        "n = 1\n",
        "x = np.expand_dims(x_test[n], axis=0)\n",
        "res = model.predict(x)\n",
        "print( res )\n",
        "print( np.argmax(res) )\n",
        "\n",
        "# Распознавание всей тестовой выборки\n",
        "pred = model.predict(x_test)\n",
        "pred = np.argmax(pred, axis=1)\n",
        "\n",
        "print(pred.shape)\n",
        "\n",
        "print(pred[:30])\n",
        "print(y_test[:30])"
      ],
      "metadata": {
        "colab": {
          "base_uri": "https://localhost:8080/"
        },
        "id": "zS7Fj8VUW4mk",
        "outputId": "a487e04f-7dde-40ee-88b7-83fc5d327577"
      },
      "execution_count": 7,
      "outputs": [
        {
          "output_type": "stream",
          "name": "stdout",
          "text": [
            "Epoch 1/5\n",
            "1500/1500 [==============================] - 10s 6ms/step - loss: 0.0017 - accuracy: 0.9994 - val_loss: 0.1390 - val_accuracy: 0.9774\n",
            "Epoch 2/5\n",
            "1500/1500 [==============================] - 8s 5ms/step - loss: 0.0047 - accuracy: 0.9986 - val_loss: 0.1366 - val_accuracy: 0.9774\n",
            "Epoch 3/5\n",
            "1500/1500 [==============================] - 7s 5ms/step - loss: 0.0024 - accuracy: 0.9993 - val_loss: 0.1395 - val_accuracy: 0.9778\n",
            "Epoch 4/5\n",
            "1500/1500 [==============================] - 8s 5ms/step - loss: 0.0040 - accuracy: 0.9988 - val_loss: 0.1615 - val_accuracy: 0.9750\n",
            "Epoch 5/5\n",
            "1500/1500 [==============================] - 8s 5ms/step - loss: 0.0028 - accuracy: 0.9990 - val_loss: 0.1415 - val_accuracy: 0.9774\n",
            "313/313 [==============================] - 1s 2ms/step - loss: 0.1418 - accuracy: 0.9783\n",
            "1/1 [==============================] - 0s 60ms/step\n",
            "[[1.2957939e-25 2.3256042e-13 1.0000000e+00 5.8173905e-17 1.2924050e-36\n",
            "  1.6559539e-19 6.3465432e-18 0.0000000e+00 1.5519574e-17 1.6960706e-27]]\n",
            "2\n",
            "313/313 [==============================] - 1s 2ms/step\n",
            "(10000,)\n",
            "[7 2 1 0 4 1 4 9 5 9 0 6 9 0 1 5 9 7 3 4 9 6 6 5 4 0 7 4 0 1]\n",
            "[7 2 1 0 4 1 4 9 5 9 0 6 9 0 1 5 9 7 3 4 9 6 6 5 4 0 7 4 0 1]\n"
          ]
        }
      ]
    }
  ]
}